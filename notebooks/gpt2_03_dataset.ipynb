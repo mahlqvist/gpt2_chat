{
 "cells": [
  {
   "cell_type": "code",
   "execution_count": 4,
   "metadata": {},
   "outputs": [],
   "source": [
    "from transformers import AutoModelForCausalLM, AutoTokenizer\n",
    "from dotenv import load_dotenv\n",
    "import os\n",
    "from datasets import load_dataset\n",
    "\n",
    "_ = load_dotenv()\n",
    "\n",
    "_ = os.getenv(\"HF_TOKEN\")\n",
    "\n",
    "# Load tokenizer\n",
    "tokenizer = AutoTokenizer.from_pretrained(\"gpt2\")\n",
    "\n",
    "# Use EOS as PAD\n",
    "tokenizer.pad_token = tokenizer.eos_token\n",
    "tokenizer.padding_side = \"right\"\n",
    "\n",
    "\n",
    "# Load gpt-2 in 8-bit to save memory\n",
    "model = AutoModelForCausalLM.from_pretrained(\n",
    "    \"gpt2\",\n",
    "    pad_token_id=tokenizer.eos_token_id,\n",
    "    device_map=\"auto\"\n",
    ")"
   ]
  },
  {
   "cell_type": "code",
   "execution_count": null,
   "metadata": {},
   "outputs": [],
   "source": [
    "file_name = \"../data/dialogs.txt\"\n",
    "text_dataset = []\n",
    "\n",
    "with open(file_name, \"r\") as infile:\n",
    "    count = 0\n",
    "    for line in infile:\n",
    "        q, a = line.split(\"\\t\")\n",
    "        if (count % 2 == 0):\n",
    "            q = \". \".join([x.capitalize() for x in q.split(\". \")])\n",
    "            a = \". \".join([x.capitalize() for x in a.split(\". \")])\n",
    "            text = f\"Human: {q} Bot: {a}\"\n",
    "            text_dataset.append(text)\n",
    "        count += 1\n",
    "    "
   ]
  },
  {
   "cell_type": "code",
   "execution_count": null,
   "metadata": {},
   "outputs": [],
   "source": [
    "file_name = \"./text_dataset.txt\"\n",
    "with open(file_name, \"w\") as outfile:\n",
    "\toutfile.writelines(text_dataset)"
   ]
  },
  {
   "cell_type": "code",
   "execution_count": 46,
   "metadata": {},
   "outputs": [
    {
     "data": {
      "application/vnd.jupyter.widget-view+json": {
       "model_id": "3775fa8f817e46a0a3cdde12a86642a2",
       "version_major": 2,
       "version_minor": 0
      },
      "text/plain": [
       "Generating train split: 0 examples [00:00, ? examples/s]"
      ]
     },
     "metadata": {},
     "output_type": "display_data"
    }
   ],
   "source": [
    "# Load full dataset first\n",
    "dataset = load_dataset(\"text\", data_files=\"test_text.txt\")\n",
    "\n",
    "# Split into training and validation sets (80/20)\n",
    "split_dataset = dataset[\"train\"].train_test_split(test_size=0.2, seed=42)"
   ]
  },
  {
   "cell_type": "code",
   "execution_count": 47,
   "metadata": {},
   "outputs": [],
   "source": [
    "# Access train and validation sets\n",
    "train_dataset = split_dataset[\"train\"]\n",
    "val_dataset = split_dataset[\"test\"]"
   ]
  },
  {
   "cell_type": "code",
   "execution_count": null,
   "metadata": {},
   "outputs": [],
   "source": [
    "# Save the splits (optional)\n",
    "train_dataset.to_json(\"train_dataset.json\", orient='records', lines=True)\n",
    "val_dataset.to_json(\"val_dataset.json\", orient='records', lines=True)\n",
    "\n",
    "# Load both splits at once\n",
    "reloaded_dataset = load_dataset('json', data_files={\n",
    "    'train': 'train_dataset.json',\n",
    "    'test': 'val_dataset.json'\n",
    "})"
   ]
  }
 ],
 "metadata": {
  "kernelspec": {
   "display_name": ".venv",
   "language": "python",
   "name": ".venv"
  },
  "language_info": {
   "codemirror_mode": {
    "name": "ipython",
    "version": 3
   },
   "file_extension": ".py",
   "mimetype": "text/x-python",
   "name": "python",
   "nbconvert_exporter": "python",
   "pygments_lexer": "ipython3",
   "version": "3.13.2"
  }
 },
 "nbformat": 4,
 "nbformat_minor": 2
}
